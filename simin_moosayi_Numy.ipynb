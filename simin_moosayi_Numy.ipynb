{
 "cells": [
  {
   "cell_type": "code",
   "execution_count": 1,
   "id": "b725faec-23e7-44be-a81c-174eaa2edd4e",
   "metadata": {},
   "outputs": [],
   "source": [
    "import numpy as np"
   ]
  },
  {
   "cell_type": "code",
   "execution_count": null,
   "id": "699bb535-5828-411f-b618-f64127bf43ff",
   "metadata": {},
   "outputs": [],
   "source": [
    "#Q3: Create a 4×5 numpy array of all True’s."
   ]
  },
  {
   "cell_type": "code",
   "execution_count": 4,
   "id": "97606bee-cb76-4207-b775-3266c4556a5a",
   "metadata": {},
   "outputs": [
    {
     "data": {
      "text/plain": [
       "array([['True', 'True', 'True', 'True', 'True'],\n",
       "       ['True', 'True', 'True', 'True', 'True'],\n",
       "       ['True', 'True', 'True', 'True', 'True'],\n",
       "       ['True', 'True', 'True', 'True', 'True']], dtype='<U4')"
      ]
     },
     "execution_count": 4,
     "metadata": {},
     "output_type": "execute_result"
    }
   ],
   "source": [
    "q3=np.array([['True','True','True','True','True'],\n",
    "             ['True','True','True','True','True'],\n",
    "             ['True','True','True','True','True'],\n",
    "             ['True','True','True','True','True']])\n",
    "q3"
   ]
  },
  {
   "cell_type": "code",
   "execution_count": null,
   "id": "345a7c91-e9e8-4fd5-acb0-5d3d5f4f5368",
   "metadata": {},
   "outputs": [],
   "source": [
    "#Q4: Create an array of integers from 10 to 50 with with step of 3. Save the array in a. Replace all even numbers in a with -1."
   ]
  },
  {
   "cell_type": "code",
   "execution_count": 6,
   "id": "836e1843-8efa-4de2-91dc-b7688afea79d",
   "metadata": {},
   "outputs": [
    {
     "data": {
      "text/plain": [
       "array([10, 13, 16, 19, 22, 25, 28, 31, 34, 37, 40, 43, 46, 49])"
      ]
     },
     "execution_count": 6,
     "metadata": {},
     "output_type": "execute_result"
    }
   ],
   "source": [
    "a=np.arange(10,50,3)\n",
    "a"
   ]
  },
  {
   "cell_type": "code",
   "execution_count": 7,
   "id": "44576afe-6187-4019-b9df-0d0deb9b03d6",
   "metadata": {},
   "outputs": [
    {
     "data": {
      "text/plain": [
       "array([-1, 13, -1, 19, -1, 25, -1, 31, -1, 37, -1, 43, -1, 49])"
      ]
     },
     "execution_count": 7,
     "metadata": {},
     "output_type": "execute_result"
    }
   ],
   "source": [
    "a[a%2==0]=-1\n",
    "a"
   ]
  },
  {
   "cell_type": "code",
   "execution_count": null,
   "id": "230156c8-9bc8-4ad8-bed9-1ef0c3659919",
   "metadata": {},
   "outputs": [],
   "source": [
    "# Q5: Create an one-dimensional array which includes odd numbers from 1 to 20."
   ]
  },
  {
   "cell_type": "code",
   "execution_count": 8,
   "id": "b030e1a8-c6bc-42c4-b79e-5c4c23aa788e",
   "metadata": {},
   "outputs": [
    {
     "data": {
      "text/plain": [
       "array([ 1,  3,  5,  7,  9, 11, 13, 15, 17, 19])"
      ]
     },
     "execution_count": 8,
     "metadata": {},
     "output_type": "execute_result"
    }
   ],
   "source": [
    "q5=np.arange(1,20,2)\n",
    "q5"
   ]
  },
  {
   "cell_type": "code",
   "execution_count": 9,
   "id": "fe56a3d2-4e2e-431d-a3c5-2e031eef856b",
   "metadata": {},
   "outputs": [
    {
     "data": {
      "text/plain": [
       "array([ 1,  0,  5,  7,  0, 11, 13,  0, 17, 19])"
      ]
     },
     "execution_count": 9,
     "metadata": {},
     "output_type": "execute_result"
    }
   ],
   "source": [
    "#a: Change all numbers divisible by 3 into 0.\n",
    "q5[q5%3==0]=0\n",
    "q5"
   ]
  },
  {
   "cell_type": "code",
   "execution_count": null,
   "id": "d53a824c-b03a-4e09-9e68-4a13be2b131e",
   "metadata": {},
   "outputs": [],
   "source": [
    "# b: Change the array into a 2x5 matrix."
   ]
  },
  {
   "cell_type": "code",
   "execution_count": 11,
   "id": "116becba-98d4-4397-9642-c9872e652791",
   "metadata": {},
   "outputs": [
    {
     "data": {
      "text/plain": [
       "array([[ 1,  0,  5,  7,  0],\n",
       "       [11, 13,  0, 17, 19]])"
      ]
     },
     "execution_count": 11,
     "metadata": {},
     "output_type": "execute_result"
    }
   ],
   "source": [
    "q5=q5.reshape(2,5)\n",
    "q5"
   ]
  },
  {
   "cell_type": "code",
   "execution_count": null,
   "id": "f524cd78-977b-43d0-a8a6-4b55b34392af",
   "metadata": {},
   "outputs": [],
   "source": [
    "# c: Convert all numbers of the third column into zero."
   ]
  },
  {
   "cell_type": "code",
   "execution_count": 12,
   "id": "fe293465-27e3-4ecd-a4bf-37bb105e9b95",
   "metadata": {},
   "outputs": [
    {
     "data": {
      "text/plain": [
       "array([[ 1,  0,  5,  0,  0],\n",
       "       [11, 13,  0,  0, 19]])"
      ]
     },
     "execution_count": 12,
     "metadata": {},
     "output_type": "execute_result"
    }
   ],
   "source": [
    "q5[:,3]=0\n",
    "q5"
   ]
  },
  {
   "cell_type": "code",
   "execution_count": null,
   "id": "b58f9d3e-8452-4a52-a5b1-786a3c3eebbc",
   "metadata": {},
   "outputs": [],
   "source": [
    "#Q6:\n",
    "#a: Create an one-dimensional array, b1, which includes 9 numbers evenly spaced over 1.5 to 3."
   ]
  },
  {
   "cell_type": "code",
   "execution_count": 13,
   "id": "7f6acc61-1c0a-4f52-9e94-1f3ab63372e3",
   "metadata": {},
   "outputs": [
    {
     "data": {
      "text/plain": [
       "array([1.5   , 1.6875, 1.875 , 2.0625, 2.25  , 2.4375, 2.625 , 2.8125,\n",
       "       3.    ])"
      ]
     },
     "execution_count": 13,
     "metadata": {},
     "output_type": "execute_result"
    }
   ],
   "source": [
    "b1=np.linspace(1.5,3,9)\n",
    "b1"
   ]
  },
  {
   "cell_type": "code",
   "execution_count": null,
   "id": "81f529cb-4861-40ef-864f-478099c6fd3d",
   "metadata": {},
   "outputs": [],
   "source": [
    "#b: Create a 3x3 matrix, b2, which includes random numbers from Gaussian distribution with mean = 1, and sd = 0.75, seed = 1234."
   ]
  },
  {
   "cell_type": "code",
   "execution_count": 14,
   "id": "81c936b1-d03e-4c5c-b83d-c3aac65f4d87",
   "metadata": {},
   "outputs": [
    {
     "data": {
      "text/plain": [
       "array([[1.35357637, 0.10676823, 2.07453023],\n",
       "       [0.76551108, 0.45955845, 1.66537221],\n",
       "       [1.64469131, 0.52260737, 1.01177228]])"
      ]
     },
     "execution_count": 14,
     "metadata": {},
     "output_type": "execute_result"
    }
   ],
   "source": [
    "np.random.seed(1234)\n",
    "b2=np.random.normal(1,0.75,(3,3))\n",
    "b2"
   ]
  },
  {
   "cell_type": "code",
   "execution_count": null,
   "id": "edd1d03c-1823-4f11-a9d5-b959ffd63292",
   "metadata": {},
   "outputs": [],
   "source": [
    "# c: Calculate the determinant of b2."
   ]
  },
  {
   "cell_type": "code",
   "execution_count": 25,
   "id": "bba4117c-2f4a-4d74-9dd4-31ef5345efb1",
   "metadata": {},
   "outputs": [
    {
     "data": {
      "text/plain": [
       "-1.0770051050177027"
      ]
     },
     "execution_count": 25,
     "metadata": {},
     "output_type": "execute_result"
    }
   ],
   "source": [
    "b2_det=np.linalg.det(b2)\n",
    "b2_det"
   ]
  },
  {
   "cell_type": "code",
   "execution_count": null,
   "id": "c65ed026-baaf-4518-b927-3732a39091bb",
   "metadata": {},
   "outputs": [],
   "source": [
    "# d: What is the transpose of matrix b2?"
   ]
  },
  {
   "cell_type": "code",
   "execution_count": 15,
   "id": "ebfe582c-49c6-4e42-a222-fa56e5b7c287",
   "metadata": {},
   "outputs": [
    {
     "data": {
      "text/plain": [
       "array([[1.35357637, 0.76551108, 1.64469131],\n",
       "       [0.10676823, 0.45955845, 0.52260737],\n",
       "       [2.07453023, 1.66537221, 1.01177228]])"
      ]
     },
     "execution_count": 15,
     "metadata": {},
     "output_type": "execute_result"
    }
   ],
   "source": [
    "b2.T"
   ]
  },
  {
   "cell_type": "code",
   "execution_count": null,
   "id": "273bf406-ef3b-4d9e-8312-ae25558b6b93",
   "metadata": {},
   "outputs": [],
   "source": [
    "# e: Convert b1 into a 3x3 matrix."
   ]
  },
  {
   "cell_type": "code",
   "execution_count": 17,
   "id": "b39b9e2a-7cfa-45ce-9803-153d22d70e29",
   "metadata": {},
   "outputs": [
    {
     "data": {
      "text/plain": [
       "array([[1.5   , 1.6875, 1.875 ],\n",
       "       [2.0625, 2.25  , 2.4375],\n",
       "       [2.625 , 2.8125, 3.    ]])"
      ]
     },
     "execution_count": 17,
     "metadata": {},
     "output_type": "execute_result"
    }
   ],
   "source": [
    "b1=b1.reshape(3,3)\n",
    "b1"
   ]
  },
  {
   "cell_type": "code",
   "execution_count": null,
   "id": "b0c5cbc4-36b8-4913-92ed-adf1e414938f",
   "metadata": {},
   "outputs": [],
   "source": [
    "# f: Calculate summation of b1 and b2."
   ]
  },
  {
   "cell_type": "code",
   "execution_count": 18,
   "id": "1b49e39f-403b-4b1c-8a54-a6dba0dc66a6",
   "metadata": {},
   "outputs": [
    {
     "data": {
      "text/plain": [
       "array([[2.85357637, 1.79426823, 3.94953023],\n",
       "       [2.82801108, 2.70955845, 4.10287221],\n",
       "       [4.26969131, 3.33510737, 4.01177228]])"
      ]
     },
     "execution_count": 18,
     "metadata": {},
     "output_type": "execute_result"
    }
   ],
   "source": [
    "b1+b2"
   ]
  },
  {
   "cell_type": "code",
   "execution_count": null,
   "id": "94117a94-3fc1-4a50-a8c4-2dbe8f09dd23",
   "metadata": {},
   "outputs": [],
   "source": [
    "# g: Calculate matrix multiplication of b1 and b2."
   ]
  },
  {
   "cell_type": "code",
   "execution_count": 20,
   "id": "41dc42cf-2858-4087-bc75-47976730733e",
   "metadata": {},
   "outputs": [
    {
     "data": {
      "text/plain": [
       "array([[ 6.40596071,  1.91554605,  7.81918396],\n",
       "       [ 8.52308626,  2.52807145, 10.49200098],\n",
       "       [10.64021182,  3.14059686, 13.16481801]])"
      ]
     },
     "execution_count": 20,
     "metadata": {},
     "output_type": "execute_result"
    }
   ],
   "source": [
    "np.dot(b1,b2)"
   ]
  },
  {
   "cell_type": "code",
   "execution_count": null,
   "id": "3c4f3dad-60b6-4440-b533-c89090b00ecc",
   "metadata": {},
   "outputs": [],
   "source": [
    "# h: Call all numbers of b2 which are greater than mean of b2."
   ]
  },
  {
   "cell_type": "code",
   "execution_count": 21,
   "id": "0f6bd7c6-4d07-4f07-ae41-89cc031c19d5",
   "metadata": {},
   "outputs": [
    {
     "data": {
      "text/plain": [
       "array([1.35357637, 2.07453023, 1.66537221, 1.64469131])"
      ]
     },
     "execution_count": 21,
     "metadata": {},
     "output_type": "execute_result"
    }
   ],
   "source": [
    "b2[(b2>b2.mean())]"
   ]
  },
  {
   "cell_type": "code",
   "execution_count": null,
   "id": "a5d5dd73-31dc-4dcc-9107-3986ae766fd6",
   "metadata": {},
   "outputs": [],
   "source": [
    "#i: Scale matrix b2 using min-max scaling method. End of Code"
   ]
  },
  {
   "cell_type": "code",
   "execution_count": 24,
   "id": "ab989746-b9e5-4897-9620-5a31ef3bf41f",
   "metadata": {},
   "outputs": [
    {
     "name": "stdout",
     "output_type": "stream",
     "text": [
      "min of b1 is: 0.1067682289701517\n",
      "max of  b1 is: 2.074530226319573\n"
     ]
    }
   ],
   "source": [
    "min=np.min(b2)\n",
    "max=np.max(b2)\n",
    "print('min of b1 is:',min)\n",
    "print('max of  b1 is:',max)"
   ]
  },
  {
   "cell_type": "code",
   "execution_count": null,
   "id": "5b9090a1-01f1-4797-896d-a72c5e8b0800",
   "metadata": {},
   "outputs": [],
   "source": []
  }
 ],
 "metadata": {
  "kernelspec": {
   "display_name": "Python 3 (ipykernel)",
   "language": "python",
   "name": "python3"
  },
  "language_info": {
   "codemirror_mode": {
    "name": "ipython",
    "version": 3
   },
   "file_extension": ".py",
   "mimetype": "text/x-python",
   "name": "python",
   "nbconvert_exporter": "python",
   "pygments_lexer": "ipython3",
   "version": "3.11.7"
  }
 },
 "nbformat": 4,
 "nbformat_minor": 5
}
